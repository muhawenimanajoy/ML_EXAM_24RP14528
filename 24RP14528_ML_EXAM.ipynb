{
 "cells": [
  {
   "cell_type": "code",
   "execution_count": 216,
   "id": "bc89236f-bbe6-4e51-945e-f750ad6e397d",
   "metadata": {},
   "outputs": [],
   "source": [
    "import pandas as pd\n",
    "import json"
   ]
  },
  {
   "cell_type": "markdown",
   "id": "3b7c69f2-ee40-43f6-9e5c-9d866c9cb05c",
   "metadata": {},
   "source": [
    "## Load JSONL (newline-delimited JSON) into DataFrame"
   ]
  },
  {
   "cell_type": "code",
   "execution_count": 219,
   "id": "60288db9-8128-4372-a32c-23d6bc23d165",
   "metadata": {},
   "outputs": [],
   "source": [
    "df = pd.read_json(\"data.txt\", lines=True, convert_dates=False)"
   ]
  },
  {
   "cell_type": "code",
   "execution_count": 220,
   "id": "fe5603ff-af70-4a45-93d3-9d2974ac1b86",
   "metadata": {},
   "outputs": [
    {
     "data": {
      "text/html": [
       "<div>\n",
       "<style scoped>\n",
       "    .dataframe tbody tr th:only-of-type {\n",
       "        vertical-align: middle;\n",
       "    }\n",
       "\n",
       "    .dataframe tbody tr th {\n",
       "        vertical-align: top;\n",
       "    }\n",
       "\n",
       "    .dataframe thead th {\n",
       "        text-align: right;\n",
       "    }\n",
       "</style>\n",
       "<table border=\"1\" class=\"dataframe\">\n",
       "  <thead>\n",
       "    <tr style=\"text-align: right;\">\n",
       "      <th></th>\n",
       "      <th>created_at</th>\n",
       "      <th>id</th>\n",
       "      <th>id_str</th>\n",
       "      <th>text</th>\n",
       "      <th>source</th>\n",
       "      <th>truncated</th>\n",
       "      <th>in_reply_to_status_id</th>\n",
       "      <th>in_reply_to_status_id_str</th>\n",
       "      <th>in_reply_to_user_id</th>\n",
       "      <th>in_reply_to_user_id_str</th>\n",
       "      <th>...</th>\n",
       "      <th>retweeted_status</th>\n",
       "      <th>is_quote_status</th>\n",
       "      <th>timestamp_ms</th>\n",
       "      <th>display_text_range</th>\n",
       "      <th>extended_entities</th>\n",
       "      <th>extended_tweet</th>\n",
       "      <th>quoted_status_id</th>\n",
       "      <th>quoted_status_id_str</th>\n",
       "      <th>quoted_status</th>\n",
       "      <th>withheld_in_countries</th>\n",
       "    </tr>\n",
       "  </thead>\n",
       "  <tbody>\n",
       "    <tr>\n",
       "      <th>0</th>\n",
       "      <td>Fri Apr 04 05:30:11 +0000 2014</td>\n",
       "      <td>451954866139590656</td>\n",
       "      <td>451954866139590656</td>\n",
       "      <td>25. نيك ورعان صغار سعودي http://t.co/zYBDYjTQc...</td>\n",
       "      <td>&lt;a href=\"http://tweetadder.com\" rel=\"nofollow\"...</td>\n",
       "      <td>False</td>\n",
       "      <td>NaN</td>\n",
       "      <td>NaN</td>\n",
       "      <td>NaN</td>\n",
       "      <td>NaN</td>\n",
       "      <td>...</td>\n",
       "      <td>NaN</td>\n",
       "      <td>NaN</td>\n",
       "      <td>NaN</td>\n",
       "      <td>NaN</td>\n",
       "      <td>NaN</td>\n",
       "      <td>NaN</td>\n",
       "      <td>NaN</td>\n",
       "      <td>NaN</td>\n",
       "      <td>NaN</td>\n",
       "      <td>NaN</td>\n",
       "    </tr>\n",
       "    <tr>\n",
       "      <th>1</th>\n",
       "      <td>Fri Apr 04 05:32:57 +0000 2014</td>\n",
       "      <td>451955562407010304</td>\n",
       "      <td>451955562407010304</td>\n",
       "      <td>#ثقتنا_في_الخليفة يا سلمان شعب #البحرين يهديك ...</td>\n",
       "      <td>&lt;a href=\"http://ifttt.com\" rel=\"nofollow\"&gt;IFTT...</td>\n",
       "      <td>False</td>\n",
       "      <td>NaN</td>\n",
       "      <td>NaN</td>\n",
       "      <td>NaN</td>\n",
       "      <td>NaN</td>\n",
       "      <td>...</td>\n",
       "      <td>NaN</td>\n",
       "      <td>NaN</td>\n",
       "      <td>NaN</td>\n",
       "      <td>NaN</td>\n",
       "      <td>NaN</td>\n",
       "      <td>NaN</td>\n",
       "      <td>NaN</td>\n",
       "      <td>NaN</td>\n",
       "      <td>NaN</td>\n",
       "      <td>NaN</td>\n",
       "    </tr>\n",
       "  </tbody>\n",
       "</table>\n",
       "<p>2 rows × 34 columns</p>\n",
       "</div>"
      ],
      "text/plain": [
       "                       created_at                  id              id_str  \\\n",
       "0  Fri Apr 04 05:30:11 +0000 2014  451954866139590656  451954866139590656   \n",
       "1  Fri Apr 04 05:32:57 +0000 2014  451955562407010304  451955562407010304   \n",
       "\n",
       "                                                text  \\\n",
       "0  25. نيك ورعان صغار سعودي http://t.co/zYBDYjTQc...   \n",
       "1  #ثقتنا_في_الخليفة يا سلمان شعب #البحرين يهديك ...   \n",
       "\n",
       "                                              source  truncated  \\\n",
       "0  <a href=\"http://tweetadder.com\" rel=\"nofollow\"...      False   \n",
       "1  <a href=\"http://ifttt.com\" rel=\"nofollow\">IFTT...      False   \n",
       "\n",
       "   in_reply_to_status_id  in_reply_to_status_id_str  in_reply_to_user_id  \\\n",
       "0                    NaN                        NaN                  NaN   \n",
       "1                    NaN                        NaN                  NaN   \n",
       "\n",
       "   in_reply_to_user_id_str  ... retweeted_status is_quote_status timestamp_ms  \\\n",
       "0                      NaN  ...              NaN             NaN          NaN   \n",
       "1                      NaN  ...              NaN             NaN          NaN   \n",
       "\n",
       "  display_text_range extended_entities  extended_tweet  quoted_status_id  \\\n",
       "0                NaN               NaN             NaN               NaN   \n",
       "1                NaN               NaN             NaN               NaN   \n",
       "\n",
       "   quoted_status_id_str quoted_status  withheld_in_countries  \n",
       "0                   NaN           NaN                    NaN  \n",
       "1                   NaN           NaN                    NaN  \n",
       "\n",
       "[2 rows x 34 columns]"
      ]
     },
     "execution_count": 220,
     "metadata": {},
     "output_type": "execute_result"
    }
   ],
   "source": [
    "df.head(2)"
   ]
  },
  {
   "cell_type": "markdown",
   "id": "b5831ad6-553e-4dca-9e9e-74774ec75ce8",
   "metadata": {},
   "source": [
    "## Convert rows to list of dicts"
   ]
  },
  {
   "cell_type": "code",
   "execution_count": 224,
   "id": "00818154-7dfc-4784-9ae0-051785552a0b",
   "metadata": {},
   "outputs": [],
   "source": [
    "data = df.to_dict(orient=\"records\")"
   ]
  },
  {
   "cell_type": "markdown",
   "id": "65f8fa8f-8641-484a-bf40-ee68dfda9443",
   "metadata": {},
   "source": [
    "## Extract useful information"
   ]
  },
  {
   "cell_type": "code",
   "execution_count": 226,
   "id": "2ea79c3f-ef0d-42c8-a602-a5b404d2144a",
   "metadata": {},
   "outputs": [],
   "source": [
    "flattened_data = []\n",
    "for tweet in data: \n",
    "    tweet_id = tweet.get(\"id_str\") or tweet.get(\"id\")\n",
    "    text = tweet.get(\"full_text\") or tweet.get(\"text\")\n",
    "    created_at = tweet.get(\"created_at\")\n",
    "    username = tweet.get(\"user\", {}).get(\"screen_name\") if isinstance(tweet.get(\"user\"), dict) else None\n",
    "    user_followers_count = tweet.get(\"user\", {}).get(\"followers_count\", 0) if isinstance(tweet.get(\"user\"), dict) else 0\n",
    "    user_created_at = tweet.get(\"user\", {}).get(\"created_at\") if isinstance(tweet.get(\"user\"), dict) else None\n",
    "    hashtag_count = len(tweet.get(\"entities\", {}).get(\"hashtags\", [])) if isinstance(tweet.get(\"entities\"), dict) else 0\n",
    "    retweet_count = tweet.get(\"retweet_count\", 0)\n",
    "    favorite_count = tweet.get(\"favorite_count\", 0)\n",
    "    lang = tweet.get(\"lang\")\n",
    "\n",
    "    flattened_data.append([\n",
    "        tweet_id, text, created_at, username, user_created_at,\n",
    "        user_followers_count, hashtag_count, retweet_count, favorite_count, lang\n",
    "    ])"
   ]
  },
  {
   "cell_type": "markdown",
   "id": "e455acbe-0ced-46e7-9b5f-0dd361ae1fd4",
   "metadata": {},
   "source": [
    "## Convert flattened data into a DataFrame"
   ]
  },
  {
   "cell_type": "code",
   "execution_count": 229,
   "id": "56936ed0-472e-45ec-a725-62386b2ca226",
   "metadata": {},
   "outputs": [],
   "source": [
    "flat_df = pd.DataFrame(flattened_data, columns=[\n",
    "    \"tweet_id\", \"text\", \"tweet_created_at\", \"username\", \"user_created_at\",\n",
    "    \"user_followers_count\", \"hashtag_count\", \"retweet_count\", \"favorite_count\", \"lang\"\n",
    "])"
   ]
  },
  {
   "cell_type": "code",
   "execution_count": 231,
   "id": "561822b2-7f05-46d8-85d5-ff2ddc6a6174",
   "metadata": {},
   "outputs": [
    {
     "data": {
      "text/html": [
       "<div>\n",
       "<style scoped>\n",
       "    .dataframe tbody tr th:only-of-type {\n",
       "        vertical-align: middle;\n",
       "    }\n",
       "\n",
       "    .dataframe tbody tr th {\n",
       "        vertical-align: top;\n",
       "    }\n",
       "\n",
       "    .dataframe thead th {\n",
       "        text-align: right;\n",
       "    }\n",
       "</style>\n",
       "<table border=\"1\" class=\"dataframe\">\n",
       "  <thead>\n",
       "    <tr style=\"text-align: right;\">\n",
       "      <th></th>\n",
       "      <th>tweet_id</th>\n",
       "      <th>text</th>\n",
       "      <th>tweet_created_at</th>\n",
       "      <th>username</th>\n",
       "      <th>user_created_at</th>\n",
       "      <th>user_followers_count</th>\n",
       "      <th>hashtag_count</th>\n",
       "      <th>retweet_count</th>\n",
       "      <th>favorite_count</th>\n",
       "      <th>lang</th>\n",
       "    </tr>\n",
       "  </thead>\n",
       "  <tbody>\n",
       "    <tr>\n",
       "      <th>0</th>\n",
       "      <td>451954866139590656</td>\n",
       "      <td>25. نيك ورعان صغار سعودي http://t.co/zYBDYjTQc...</td>\n",
       "      <td>Fri Apr 04 05:30:11 +0000 2014</td>\n",
       "      <td>serfearnar3</td>\n",
       "      <td>Tue Mar 11 07:46:40 +0000 2014</td>\n",
       "      <td>172</td>\n",
       "      <td>8</td>\n",
       "      <td>0</td>\n",
       "      <td>0</td>\n",
       "      <td>ar</td>\n",
       "    </tr>\n",
       "    <tr>\n",
       "      <th>1</th>\n",
       "      <td>451955562407010304</td>\n",
       "      <td>#ثقتنا_في_الخليفة يا سلمان شعب #البحرين يهديك ...</td>\n",
       "      <td>Fri Apr 04 05:32:57 +0000 2014</td>\n",
       "      <td>ebri_ebre</td>\n",
       "      <td>Fri Jan 03 21:34:48 +0000 2014</td>\n",
       "      <td>70</td>\n",
       "      <td>5</td>\n",
       "      <td>0</td>\n",
       "      <td>0</td>\n",
       "      <td>ar</td>\n",
       "    </tr>\n",
       "    <tr>\n",
       "      <th>2</th>\n",
       "      <td>451956103476424704</td>\n",
       "      <td>Thanks @MaupiEnCo #FF @BoomerZazou @HARDYenDAI...</td>\n",
       "      <td>Fri Apr 04 05:35:06 +0000 2014</td>\n",
       "      <td>amadeus_pluis</td>\n",
       "      <td>Fri Jul 13 21:03:47 +0000 2012</td>\n",
       "      <td>769</td>\n",
       "      <td>1</td>\n",
       "      <td>0</td>\n",
       "      <td>0</td>\n",
       "      <td>en</td>\n",
       "    </tr>\n",
       "    <tr>\n",
       "      <th>3</th>\n",
       "      <td>451957428880674816</td>\n",
       "      <td>RT @heidi_striker: Make time for others and th...</td>\n",
       "      <td>Fri Apr 04 05:40:22 +0000 2014</td>\n",
       "      <td>Palleg1964</td>\n",
       "      <td>Thu Jan 09 18:35:51 +0000 2014</td>\n",
       "      <td>568</td>\n",
       "      <td>1</td>\n",
       "      <td>0</td>\n",
       "      <td>0</td>\n",
       "      <td>en</td>\n",
       "    </tr>\n",
       "    <tr>\n",
       "      <th>4</th>\n",
       "      <td>451957445636534272</td>\n",
       "      <td>RT @anneotago: @jendab @chelsea_goulton @LogiB...</td>\n",
       "      <td>Fri Apr 04 05:40:26 +0000 2014</td>\n",
       "      <td>chelsea_goulton</td>\n",
       "      <td>Fri Jan 11 04:28:15 +0000 2013</td>\n",
       "      <td>93</td>\n",
       "      <td>1</td>\n",
       "      <td>0</td>\n",
       "      <td>0</td>\n",
       "      <td>en</td>\n",
       "    </tr>\n",
       "  </tbody>\n",
       "</table>\n",
       "</div>"
      ],
      "text/plain": [
       "             tweet_id                                               text  \\\n",
       "0  451954866139590656  25. نيك ورعان صغار سعودي http://t.co/zYBDYjTQc...   \n",
       "1  451955562407010304  #ثقتنا_في_الخليفة يا سلمان شعب #البحرين يهديك ...   \n",
       "2  451956103476424704  Thanks @MaupiEnCo #FF @BoomerZazou @HARDYenDAI...   \n",
       "3  451957428880674816  RT @heidi_striker: Make time for others and th...   \n",
       "4  451957445636534272  RT @anneotago: @jendab @chelsea_goulton @LogiB...   \n",
       "\n",
       "                 tweet_created_at         username  \\\n",
       "0  Fri Apr 04 05:30:11 +0000 2014      serfearnar3   \n",
       "1  Fri Apr 04 05:32:57 +0000 2014        ebri_ebre   \n",
       "2  Fri Apr 04 05:35:06 +0000 2014    amadeus_pluis   \n",
       "3  Fri Apr 04 05:40:22 +0000 2014       Palleg1964   \n",
       "4  Fri Apr 04 05:40:26 +0000 2014  chelsea_goulton   \n",
       "\n",
       "                  user_created_at  user_followers_count  hashtag_count  \\\n",
       "0  Tue Mar 11 07:46:40 +0000 2014                   172              8   \n",
       "1  Fri Jan 03 21:34:48 +0000 2014                    70              5   \n",
       "2  Fri Jul 13 21:03:47 +0000 2012                   769              1   \n",
       "3  Thu Jan 09 18:35:51 +0000 2014                   568              1   \n",
       "4  Fri Jan 11 04:28:15 +0000 2013                    93              1   \n",
       "\n",
       "   retweet_count  favorite_count lang  \n",
       "0              0               0   ar  \n",
       "1              0               0   ar  \n",
       "2              0               0   en  \n",
       "3              0               0   en  \n",
       "4              0               0   en  "
      ]
     },
     "execution_count": 231,
     "metadata": {},
     "output_type": "execute_result"
    }
   ],
   "source": [
    "flat_df.head(5)"
   ]
  },
  {
   "cell_type": "markdown",
   "id": "5c7a2365-3039-4bbf-a844-eceb02e0f31d",
   "metadata": {},
   "source": [
    "## Check missing values"
   ]
  },
  {
   "cell_type": "code",
   "execution_count": 234,
   "id": "cf1450ea-d56c-42db-8b57-04e4bdc9f1a5",
   "metadata": {},
   "outputs": [
    {
     "data": {
      "text/plain": [
       "tweet_id                0\n",
       "text                    0\n",
       "tweet_created_at        0\n",
       "username                0\n",
       "user_created_at         0\n",
       "user_followers_count    0\n",
       "hashtag_count           0\n",
       "retweet_count           0\n",
       "favorite_count          0\n",
       "lang                    0\n",
       "dtype: int64"
      ]
     },
     "execution_count": 234,
     "metadata": {},
     "output_type": "execute_result"
    }
   ],
   "source": [
    "flat_df.isnull().sum()"
   ]
  },
  {
   "cell_type": "code",
   "execution_count": 236,
   "id": "0c815c19-e7a8-453d-8fc0-e766536aa95a",
   "metadata": {},
   "outputs": [
    {
     "data": {
      "text/plain": [
       "tweet_id                 int64\n",
       "text                    object\n",
       "tweet_created_at        object\n",
       "username                object\n",
       "user_created_at         object\n",
       "user_followers_count     int64\n",
       "hashtag_count            int64\n",
       "retweet_count            int64\n",
       "favorite_count           int64\n",
       "lang                    object\n",
       "dtype: object"
      ]
     },
     "execution_count": 236,
     "metadata": {},
     "output_type": "execute_result"
    }
   ],
   "source": [
    "flat_df.dtypes"
   ]
  },
  {
   "cell_type": "code",
   "execution_count": 238,
   "id": "9f3e343b-f4d8-4420-b52d-73afd2b3d914",
   "metadata": {},
   "outputs": [],
   "source": [
    "date_format = \"%a %b %d %H:%M:%S %z %Y\"  # Twitter date format\n",
    "\n",
    "flat_df[\"tweet_created_at\"] = pd.to_datetime(\n",
    "    flat_df[\"tweet_created_at\"], format=date_format, errors=\"coerce\"\n",
    ")\n",
    "flat_df[\"user_created_at\"] = pd.to_datetime(\n",
    "    flat_df[\"user_created_at\"], format=date_format, errors=\"coerce\"\n",
    ")"
   ]
  },
  {
   "cell_type": "markdown",
   "id": "c7ece662-9a20-4245-9d78-40b328649669",
   "metadata": {},
   "source": [
    "### Account age in days when tweet was posted"
   ]
  },
  {
   "cell_type": "code",
   "execution_count": 241,
   "id": "80a71a4a-891f-4ed5-a280-753455fce55b",
   "metadata": {},
   "outputs": [],
   "source": [
    "flat_df[\"account_age_days\"] = (flat_df[\"tweet_created_at\"] - flat_df[\"user_created_at\"]).dt.days"
   ]
  },
  {
   "cell_type": "code",
   "execution_count": 243,
   "id": "a4d538a8-8cba-4a18-8223-1a5aab5669ef",
   "metadata": {},
   "outputs": [
    {
     "data": {
      "text/html": [
       "<div>\n",
       "<style scoped>\n",
       "    .dataframe tbody tr th:only-of-type {\n",
       "        vertical-align: middle;\n",
       "    }\n",
       "\n",
       "    .dataframe tbody tr th {\n",
       "        vertical-align: top;\n",
       "    }\n",
       "\n",
       "    .dataframe thead th {\n",
       "        text-align: right;\n",
       "    }\n",
       "</style>\n",
       "<table border=\"1\" class=\"dataframe\">\n",
       "  <thead>\n",
       "    <tr style=\"text-align: right;\">\n",
       "      <th></th>\n",
       "      <th>tweet_id</th>\n",
       "      <th>text</th>\n",
       "      <th>tweet_created_at</th>\n",
       "      <th>username</th>\n",
       "      <th>user_created_at</th>\n",
       "      <th>user_followers_count</th>\n",
       "      <th>hashtag_count</th>\n",
       "      <th>retweet_count</th>\n",
       "      <th>favorite_count</th>\n",
       "      <th>lang</th>\n",
       "      <th>account_age_days</th>\n",
       "    </tr>\n",
       "  </thead>\n",
       "  <tbody>\n",
       "    <tr>\n",
       "      <th>0</th>\n",
       "      <td>451954866139590656</td>\n",
       "      <td>25. نيك ورعان صغار سعودي http://t.co/zYBDYjTQc...</td>\n",
       "      <td>2014-04-04 05:30:11+00:00</td>\n",
       "      <td>serfearnar3</td>\n",
       "      <td>2014-03-11 07:46:40+00:00</td>\n",
       "      <td>172</td>\n",
       "      <td>8</td>\n",
       "      <td>0</td>\n",
       "      <td>0</td>\n",
       "      <td>ar</td>\n",
       "      <td>23</td>\n",
       "    </tr>\n",
       "    <tr>\n",
       "      <th>1</th>\n",
       "      <td>451955562407010304</td>\n",
       "      <td>#ثقتنا_في_الخليفة يا سلمان شعب #البحرين يهديك ...</td>\n",
       "      <td>2014-04-04 05:32:57+00:00</td>\n",
       "      <td>ebri_ebre</td>\n",
       "      <td>2014-01-03 21:34:48+00:00</td>\n",
       "      <td>70</td>\n",
       "      <td>5</td>\n",
       "      <td>0</td>\n",
       "      <td>0</td>\n",
       "      <td>ar</td>\n",
       "      <td>90</td>\n",
       "    </tr>\n",
       "    <tr>\n",
       "      <th>2</th>\n",
       "      <td>451956103476424704</td>\n",
       "      <td>Thanks @MaupiEnCo #FF @BoomerZazou @HARDYenDAI...</td>\n",
       "      <td>2014-04-04 05:35:06+00:00</td>\n",
       "      <td>amadeus_pluis</td>\n",
       "      <td>2012-07-13 21:03:47+00:00</td>\n",
       "      <td>769</td>\n",
       "      <td>1</td>\n",
       "      <td>0</td>\n",
       "      <td>0</td>\n",
       "      <td>en</td>\n",
       "      <td>629</td>\n",
       "    </tr>\n",
       "    <tr>\n",
       "      <th>3</th>\n",
       "      <td>451957428880674816</td>\n",
       "      <td>RT @heidi_striker: Make time for others and th...</td>\n",
       "      <td>2014-04-04 05:40:22+00:00</td>\n",
       "      <td>Palleg1964</td>\n",
       "      <td>2014-01-09 18:35:51+00:00</td>\n",
       "      <td>568</td>\n",
       "      <td>1</td>\n",
       "      <td>0</td>\n",
       "      <td>0</td>\n",
       "      <td>en</td>\n",
       "      <td>84</td>\n",
       "    </tr>\n",
       "    <tr>\n",
       "      <th>4</th>\n",
       "      <td>451957445636534272</td>\n",
       "      <td>RT @anneotago: @jendab @chelsea_goulton @LogiB...</td>\n",
       "      <td>2014-04-04 05:40:26+00:00</td>\n",
       "      <td>chelsea_goulton</td>\n",
       "      <td>2013-01-11 04:28:15+00:00</td>\n",
       "      <td>93</td>\n",
       "      <td>1</td>\n",
       "      <td>0</td>\n",
       "      <td>0</td>\n",
       "      <td>en</td>\n",
       "      <td>448</td>\n",
       "    </tr>\n",
       "  </tbody>\n",
       "</table>\n",
       "</div>"
      ],
      "text/plain": [
       "             tweet_id                                               text  \\\n",
       "0  451954866139590656  25. نيك ورعان صغار سعودي http://t.co/zYBDYjTQc...   \n",
       "1  451955562407010304  #ثقتنا_في_الخليفة يا سلمان شعب #البحرين يهديك ...   \n",
       "2  451956103476424704  Thanks @MaupiEnCo #FF @BoomerZazou @HARDYenDAI...   \n",
       "3  451957428880674816  RT @heidi_striker: Make time for others and th...   \n",
       "4  451957445636534272  RT @anneotago: @jendab @chelsea_goulton @LogiB...   \n",
       "\n",
       "           tweet_created_at         username           user_created_at  \\\n",
       "0 2014-04-04 05:30:11+00:00      serfearnar3 2014-03-11 07:46:40+00:00   \n",
       "1 2014-04-04 05:32:57+00:00        ebri_ebre 2014-01-03 21:34:48+00:00   \n",
       "2 2014-04-04 05:35:06+00:00    amadeus_pluis 2012-07-13 21:03:47+00:00   \n",
       "3 2014-04-04 05:40:22+00:00       Palleg1964 2014-01-09 18:35:51+00:00   \n",
       "4 2014-04-04 05:40:26+00:00  chelsea_goulton 2013-01-11 04:28:15+00:00   \n",
       "\n",
       "   user_followers_count  hashtag_count  retweet_count  favorite_count lang  \\\n",
       "0                   172              8              0               0   ar   \n",
       "1                    70              5              0               0   ar   \n",
       "2                   769              1              0               0   en   \n",
       "3                   568              1              0               0   en   \n",
       "4                    93              1              0               0   en   \n",
       "\n",
       "   account_age_days  \n",
       "0                23  \n",
       "1                90  \n",
       "2               629  \n",
       "3                84  \n",
       "4               448  "
      ]
     },
     "execution_count": 243,
     "metadata": {},
     "output_type": "execute_result"
    }
   ],
   "source": [
    "flat_df.head(5)"
   ]
  },
  {
   "cell_type": "markdown",
   "id": "da1549f8-15d5-4d60-9d62-61eb7943274f",
   "metadata": {},
   "source": [
    "### 1. Account Age"
   ]
  },
  {
   "cell_type": "code",
   "execution_count": 246,
   "id": "971dbf0e-42a6-4be6-8611-1ad103df725d",
   "metadata": {},
   "outputs": [],
   "source": [
    "flat_df[\"account_age_days\"] = (flat_df[\"tweet_created_at\"] - flat_df[\"user_created_at\"]).dt.days\n",
    "flat_df[\"account_age_years\"] = flat_df[\"account_age_days\"] / 365"
   ]
  },
  {
   "cell_type": "code",
   "execution_count": 248,
   "id": "398ec9d5-a106-4f48-9779-2475e992b940",
   "metadata": {},
   "outputs": [
    {
     "data": {
      "text/html": [
       "<div>\n",
       "<style scoped>\n",
       "    .dataframe tbody tr th:only-of-type {\n",
       "        vertical-align: middle;\n",
       "    }\n",
       "\n",
       "    .dataframe tbody tr th {\n",
       "        vertical-align: top;\n",
       "    }\n",
       "\n",
       "    .dataframe thead th {\n",
       "        text-align: right;\n",
       "    }\n",
       "</style>\n",
       "<table border=\"1\" class=\"dataframe\">\n",
       "  <thead>\n",
       "    <tr style=\"text-align: right;\">\n",
       "      <th></th>\n",
       "      <th>tweet_id</th>\n",
       "      <th>text</th>\n",
       "      <th>tweet_created_at</th>\n",
       "      <th>username</th>\n",
       "      <th>user_created_at</th>\n",
       "      <th>user_followers_count</th>\n",
       "      <th>hashtag_count</th>\n",
       "      <th>retweet_count</th>\n",
       "      <th>favorite_count</th>\n",
       "      <th>lang</th>\n",
       "      <th>account_age_days</th>\n",
       "      <th>account_age_years</th>\n",
       "    </tr>\n",
       "  </thead>\n",
       "  <tbody>\n",
       "    <tr>\n",
       "      <th>0</th>\n",
       "      <td>451954866139590656</td>\n",
       "      <td>25. نيك ورعان صغار سعودي http://t.co/zYBDYjTQc...</td>\n",
       "      <td>2014-04-04 05:30:11+00:00</td>\n",
       "      <td>serfearnar3</td>\n",
       "      <td>2014-03-11 07:46:40+00:00</td>\n",
       "      <td>172</td>\n",
       "      <td>8</td>\n",
       "      <td>0</td>\n",
       "      <td>0</td>\n",
       "      <td>ar</td>\n",
       "      <td>23</td>\n",
       "      <td>0.063014</td>\n",
       "    </tr>\n",
       "    <tr>\n",
       "      <th>1</th>\n",
       "      <td>451955562407010304</td>\n",
       "      <td>#ثقتنا_في_الخليفة يا سلمان شعب #البحرين يهديك ...</td>\n",
       "      <td>2014-04-04 05:32:57+00:00</td>\n",
       "      <td>ebri_ebre</td>\n",
       "      <td>2014-01-03 21:34:48+00:00</td>\n",
       "      <td>70</td>\n",
       "      <td>5</td>\n",
       "      <td>0</td>\n",
       "      <td>0</td>\n",
       "      <td>ar</td>\n",
       "      <td>90</td>\n",
       "      <td>0.246575</td>\n",
       "    </tr>\n",
       "  </tbody>\n",
       "</table>\n",
       "</div>"
      ],
      "text/plain": [
       "             tweet_id                                               text  \\\n",
       "0  451954866139590656  25. نيك ورعان صغار سعودي http://t.co/zYBDYjTQc...   \n",
       "1  451955562407010304  #ثقتنا_في_الخليفة يا سلمان شعب #البحرين يهديك ...   \n",
       "\n",
       "           tweet_created_at     username           user_created_at  \\\n",
       "0 2014-04-04 05:30:11+00:00  serfearnar3 2014-03-11 07:46:40+00:00   \n",
       "1 2014-04-04 05:32:57+00:00    ebri_ebre 2014-01-03 21:34:48+00:00   \n",
       "\n",
       "   user_followers_count  hashtag_count  retweet_count  favorite_count lang  \\\n",
       "0                   172              8              0               0   ar   \n",
       "1                    70              5              0               0   ar   \n",
       "\n",
       "   account_age_days  account_age_years  \n",
       "0                23           0.063014  \n",
       "1                90           0.246575  "
      ]
     },
     "execution_count": 248,
     "metadata": {},
     "output_type": "execute_result"
    }
   ],
   "source": [
    "flat_df.head(2)"
   ]
  },
  {
   "cell_type": "markdown",
   "id": "1abaa8b0-e489-45fb-b003-087ba7d23075",
   "metadata": {},
   "source": [
    "### 2. Engagement Ratios"
   ]
  },
  {
   "cell_type": "code",
   "execution_count": 251,
   "id": "4089be18-4978-4f70-b2b7-40c73694f3ce",
   "metadata": {},
   "outputs": [],
   "source": [
    "# Avoid division by zero\n",
    "flat_df[\"followers_per_retweet\"] = flat_df[\"user_followers_count\"] / (flat_df[\"retweet_count\"] + 1)\n",
    "flat_df[\"followers_per_favorite\"] = flat_df[\"user_followers_count\"] / (flat_df[\"favorite_count\"] + 1)\n",
    "flat_df[\"retweet_to_favorite_ratio\"] = flat_df[\"retweet_count\"] / (flat_df[\"favorite_count\"] + 1)\n"
   ]
  },
  {
   "cell_type": "code",
   "execution_count": 253,
   "id": "2906b078-af2c-443d-8d52-d7c858fab80a",
   "metadata": {},
   "outputs": [
    {
     "data": {
      "text/html": [
       "<div>\n",
       "<style scoped>\n",
       "    .dataframe tbody tr th:only-of-type {\n",
       "        vertical-align: middle;\n",
       "    }\n",
       "\n",
       "    .dataframe tbody tr th {\n",
       "        vertical-align: top;\n",
       "    }\n",
       "\n",
       "    .dataframe thead th {\n",
       "        text-align: right;\n",
       "    }\n",
       "</style>\n",
       "<table border=\"1\" class=\"dataframe\">\n",
       "  <thead>\n",
       "    <tr style=\"text-align: right;\">\n",
       "      <th></th>\n",
       "      <th>tweet_id</th>\n",
       "      <th>text</th>\n",
       "      <th>tweet_created_at</th>\n",
       "      <th>username</th>\n",
       "      <th>user_created_at</th>\n",
       "      <th>user_followers_count</th>\n",
       "      <th>hashtag_count</th>\n",
       "      <th>retweet_count</th>\n",
       "      <th>favorite_count</th>\n",
       "      <th>lang</th>\n",
       "      <th>account_age_days</th>\n",
       "      <th>account_age_years</th>\n",
       "      <th>followers_per_retweet</th>\n",
       "      <th>followers_per_favorite</th>\n",
       "      <th>retweet_to_favorite_ratio</th>\n",
       "    </tr>\n",
       "  </thead>\n",
       "  <tbody>\n",
       "    <tr>\n",
       "      <th>0</th>\n",
       "      <td>451954866139590656</td>\n",
       "      <td>25. نيك ورعان صغار سعودي http://t.co/zYBDYjTQc...</td>\n",
       "      <td>2014-04-04 05:30:11+00:00</td>\n",
       "      <td>serfearnar3</td>\n",
       "      <td>2014-03-11 07:46:40+00:00</td>\n",
       "      <td>172</td>\n",
       "      <td>8</td>\n",
       "      <td>0</td>\n",
       "      <td>0</td>\n",
       "      <td>ar</td>\n",
       "      <td>23</td>\n",
       "      <td>0.063014</td>\n",
       "      <td>172.0</td>\n",
       "      <td>172.0</td>\n",
       "      <td>0.0</td>\n",
       "    </tr>\n",
       "    <tr>\n",
       "      <th>1</th>\n",
       "      <td>451955562407010304</td>\n",
       "      <td>#ثقتنا_في_الخليفة يا سلمان شعب #البحرين يهديك ...</td>\n",
       "      <td>2014-04-04 05:32:57+00:00</td>\n",
       "      <td>ebri_ebre</td>\n",
       "      <td>2014-01-03 21:34:48+00:00</td>\n",
       "      <td>70</td>\n",
       "      <td>5</td>\n",
       "      <td>0</td>\n",
       "      <td>0</td>\n",
       "      <td>ar</td>\n",
       "      <td>90</td>\n",
       "      <td>0.246575</td>\n",
       "      <td>70.0</td>\n",
       "      <td>70.0</td>\n",
       "      <td>0.0</td>\n",
       "    </tr>\n",
       "  </tbody>\n",
       "</table>\n",
       "</div>"
      ],
      "text/plain": [
       "             tweet_id                                               text  \\\n",
       "0  451954866139590656  25. نيك ورعان صغار سعودي http://t.co/zYBDYjTQc...   \n",
       "1  451955562407010304  #ثقتنا_في_الخليفة يا سلمان شعب #البحرين يهديك ...   \n",
       "\n",
       "           tweet_created_at     username           user_created_at  \\\n",
       "0 2014-04-04 05:30:11+00:00  serfearnar3 2014-03-11 07:46:40+00:00   \n",
       "1 2014-04-04 05:32:57+00:00    ebri_ebre 2014-01-03 21:34:48+00:00   \n",
       "\n",
       "   user_followers_count  hashtag_count  retweet_count  favorite_count lang  \\\n",
       "0                   172              8              0               0   ar   \n",
       "1                    70              5              0               0   ar   \n",
       "\n",
       "   account_age_days  account_age_years  followers_per_retweet  \\\n",
       "0                23           0.063014                  172.0   \n",
       "1                90           0.246575                   70.0   \n",
       "\n",
       "   followers_per_favorite  retweet_to_favorite_ratio  \n",
       "0                   172.0                        0.0  \n",
       "1                    70.0                        0.0  "
      ]
     },
     "execution_count": 253,
     "metadata": {},
     "output_type": "execute_result"
    }
   ],
   "source": [
    "flat_df.head(2)"
   ]
  },
  {
   "cell_type": "markdown",
   "id": "9f291bc2-f30e-4e24-be1e-ddf8d65c7de1",
   "metadata": {},
   "source": [
    "### 3. Tweet Content Features"
   ]
  },
  {
   "cell_type": "code",
   "execution_count": 256,
   "id": "c0147775-2e30-4734-97b0-43bbffc0adbb",
   "metadata": {},
   "outputs": [],
   "source": [
    "# Length of the tweet\n",
    "flat_df[\"text_length\"] = flat_df[\"text\"].str.len()\n",
    "\n",
    "# Number of words\n",
    "flat_df[\"word_count\"] = flat_df[\"text\"].str.split().str.len()\n",
    "\n",
    "# Number of mentions (@)\n",
    "flat_df[\"mention_count\"] = flat_df[\"text\"].str.count(\"@\")\n",
    "\n",
    "# Number of URLs\n",
    "flat_df[\"url_count\"] = flat_df[\"text\"].str.count(\"http[s]?://\")\n",
    "\n",
    "# Presence of hashtags\n",
    "flat_df[\"has_hashtags\"] = (flat_df[\"hashtag_count\"] > 0).astype(int)"
   ]
  },
  {
   "cell_type": "markdown",
   "id": "2694e768-08d2-487e-baed-42f4b0512c64",
   "metadata": {},
   "source": [
    "### 4. Temporal Features"
   ]
  },
  {
   "cell_type": "code",
   "execution_count": 259,
   "id": "46df8da9-efa3-4217-b283-918c17e6c69e",
   "metadata": {},
   "outputs": [],
   "source": [
    "# Hour of tweet (0-23)\n",
    "flat_df[\"tweet_hour\"] = flat_df[\"tweet_created_at\"].dt.hour\n",
    "\n",
    "# Day of week (0=Monday, 6=Sunday)\n",
    "flat_df[\"tweet_dayofweek\"] = flat_df[\"tweet_created_at\"].dt.dayofweek\n",
    "\n",
    "# Is weekend?\n",
    "flat_df[\"is_weekend\"] = flat_df[\"tweet_dayofweek\"].isin([5,6]).astype(int)"
   ]
  },
  {
   "cell_type": "markdown",
   "id": "de10c711-a785-433d-a710-1f7ac32733c2",
   "metadata": {},
   "source": [
    "### 5. Interaction Features"
   ]
  },
  {
   "cell_type": "code",
   "execution_count": 262,
   "id": "45c8d1fd-5f42-4523-b1aa-1828be0f7a59",
   "metadata": {},
   "outputs": [],
   "source": [
    "flat_df[\"engagement_sum\"] = flat_df[\"retweet_count\"] + flat_df[\"favorite_count\"]\n",
    "flat_df[\"engagement_per_follower\"] = flat_df[\"engagement_sum\"] / (flat_df[\"user_followers_count\"] + 1)"
   ]
  },
  {
   "cell_type": "markdown",
   "id": "407ad591-25e3-4560-8c2d-9883d17ac899",
   "metadata": {},
   "source": [
    "### 6. Language Encoding"
   ]
  },
  {
   "cell_type": "code",
   "execution_count": 265,
   "id": "cdee2f4a-8f4b-437e-9880-ac1324187f48",
   "metadata": {},
   "outputs": [],
   "source": [
    "flat_df[\"lang_encoded\"] = flat_df[\"lang\"].astype('category').cat.codes"
   ]
  },
  {
   "cell_type": "code",
   "execution_count": 269,
   "id": "ffbbb040-fe1f-4cbf-aa0e-0720ae282cf9",
   "metadata": {},
   "outputs": [
    {
     "data": {
      "text/html": [
       "<div>\n",
       "<style scoped>\n",
       "    .dataframe tbody tr th:only-of-type {\n",
       "        vertical-align: middle;\n",
       "    }\n",
       "\n",
       "    .dataframe tbody tr th {\n",
       "        vertical-align: top;\n",
       "    }\n",
       "\n",
       "    .dataframe thead th {\n",
       "        text-align: right;\n",
       "    }\n",
       "</style>\n",
       "<table border=\"1\" class=\"dataframe\">\n",
       "  <thead>\n",
       "    <tr style=\"text-align: right;\">\n",
       "      <th></th>\n",
       "      <th>tweet_id</th>\n",
       "      <th>text</th>\n",
       "      <th>tweet_created_at</th>\n",
       "      <th>username</th>\n",
       "      <th>user_created_at</th>\n",
       "      <th>user_followers_count</th>\n",
       "      <th>hashtag_count</th>\n",
       "      <th>retweet_count</th>\n",
       "      <th>favorite_count</th>\n",
       "      <th>lang</th>\n",
       "      <th>...</th>\n",
       "      <th>word_count</th>\n",
       "      <th>mention_count</th>\n",
       "      <th>url_count</th>\n",
       "      <th>has_hashtags</th>\n",
       "      <th>tweet_hour</th>\n",
       "      <th>tweet_dayofweek</th>\n",
       "      <th>is_weekend</th>\n",
       "      <th>engagement_sum</th>\n",
       "      <th>engagement_per_follower</th>\n",
       "      <th>lang_encoded</th>\n",
       "    </tr>\n",
       "  </thead>\n",
       "  <tbody>\n",
       "    <tr>\n",
       "      <th>0</th>\n",
       "      <td>451954866139590656</td>\n",
       "      <td>25. نيك ورعان صغار سعودي http://t.co/zYBDYjTQc...</td>\n",
       "      <td>2014-04-04 05:30:11+00:00</td>\n",
       "      <td>serfearnar3</td>\n",
       "      <td>2014-03-11 07:46:40+00:00</td>\n",
       "      <td>172</td>\n",
       "      <td>8</td>\n",
       "      <td>0</td>\n",
       "      <td>0</td>\n",
       "      <td>ar</td>\n",
       "      <td>...</td>\n",
       "      <td>14</td>\n",
       "      <td>0</td>\n",
       "      <td>1</td>\n",
       "      <td>1</td>\n",
       "      <td>5</td>\n",
       "      <td>4</td>\n",
       "      <td>0</td>\n",
       "      <td>0</td>\n",
       "      <td>0.0</td>\n",
       "      <td>0</td>\n",
       "    </tr>\n",
       "    <tr>\n",
       "      <th>1</th>\n",
       "      <td>451955562407010304</td>\n",
       "      <td>#ثقتنا_في_الخليفة يا سلمان شعب #البحرين يهديك ...</td>\n",
       "      <td>2014-04-04 05:32:57+00:00</td>\n",
       "      <td>ebri_ebre</td>\n",
       "      <td>2014-01-03 21:34:48+00:00</td>\n",
       "      <td>70</td>\n",
       "      <td>5</td>\n",
       "      <td>0</td>\n",
       "      <td>0</td>\n",
       "      <td>ar</td>\n",
       "      <td>...</td>\n",
       "      <td>16</td>\n",
       "      <td>0</td>\n",
       "      <td>1</td>\n",
       "      <td>1</td>\n",
       "      <td>5</td>\n",
       "      <td>4</td>\n",
       "      <td>0</td>\n",
       "      <td>0</td>\n",
       "      <td>0.0</td>\n",
       "      <td>0</td>\n",
       "    </tr>\n",
       "  </tbody>\n",
       "</table>\n",
       "<p>2 rows × 26 columns</p>\n",
       "</div>"
      ],
      "text/plain": [
       "             tweet_id                                               text  \\\n",
       "0  451954866139590656  25. نيك ورعان صغار سعودي http://t.co/zYBDYjTQc...   \n",
       "1  451955562407010304  #ثقتنا_في_الخليفة يا سلمان شعب #البحرين يهديك ...   \n",
       "\n",
       "           tweet_created_at     username           user_created_at  \\\n",
       "0 2014-04-04 05:30:11+00:00  serfearnar3 2014-03-11 07:46:40+00:00   \n",
       "1 2014-04-04 05:32:57+00:00    ebri_ebre 2014-01-03 21:34:48+00:00   \n",
       "\n",
       "   user_followers_count  hashtag_count  retweet_count  favorite_count lang  \\\n",
       "0                   172              8              0               0   ar   \n",
       "1                    70              5              0               0   ar   \n",
       "\n",
       "   ...  word_count  mention_count  url_count  has_hashtags  tweet_hour  \\\n",
       "0  ...          14              0          1             1           5   \n",
       "1  ...          16              0          1             1           5   \n",
       "\n",
       "   tweet_dayofweek  is_weekend  engagement_sum  engagement_per_follower  \\\n",
       "0                4           0               0                      0.0   \n",
       "1                4           0               0                      0.0   \n",
       "\n",
       "   lang_encoded  \n",
       "0             0  \n",
       "1             0  \n",
       "\n",
       "[2 rows x 26 columns]"
      ]
     },
     "execution_count": 269,
     "metadata": {},
     "output_type": "execute_result"
    }
   ],
   "source": [
    "flat_df.head(2)"
   ]
  },
  {
   "cell_type": "code",
   "execution_count": 346,
   "id": "7e794af0-0454-41a4-b842-71009b5a2518",
   "metadata": {},
   "outputs": [],
   "source": [
    "flat_df.to_csv(\"24RP14528_Final_DataSet.csv\", index=False)"
   ]
  },
  {
   "cell_type": "markdown",
   "id": "f64bfab4-b07e-49e8-9689-6a53b66687ef",
   "metadata": {},
   "source": [
    "# Explaination of choices or assumptions"
   ]
  },
  {
   "cell_type": "markdown",
   "id": "67b5c63c-a3ac-4e7a-8308-da0570cc47d1",
   "metadata": {},
   "source": [
    "## 1. Filling Missing Values\n",
    "\n",
    "#### Numeric columns: Filled with 0 (e.g., user_followers_count, retweet_count, favorite_count).\n",
    "#### Assumption: If a value is missing, it’s likely the user had no followers or the tweet had no engagement. Using 0 avoids errors during modeling.\n",
    "#### Alternative: Could use median/mean imputation, but 0 makes sense for counts.\n",
    "\n",
    "#### Categorical columns: Filled with \"unknown\" (e.g., username, lang).\n",
    "#### Assumption: Missing usernames or language is rare but possible; labeling them \"unknown\" keeps the dataset consistent."
   ]
  },
  {
   "cell_type": "markdown",
   "id": "006dd03d-7b50-4c90-af7e-80acef156f4b",
   "metadata": {},
   "source": [
    "## 2. Dropping Duplicates\n",
    "\n",
    "#### Choice: Drop duplicate tweet_ids.\n",
    "#### Assumption: Each tweet should be unique; duplicates could come from repeated data collection. Keeping duplicates could bias engagement statistics."
   ]
  },
  {
   "cell_type": "markdown",
   "id": "6439b8e7-de55-4c1b-bd20-5239836980e2",
   "metadata": {},
   "source": [
    "## 3. Handling Invalid Dates\n",
    "\n",
    "#### Choice: Use pd.to_datetime(..., errors=\"coerce\") → converts invalid dates to NaT. Then drop NaT.\n",
    "#### Assumption: Invalid or missing timestamps are rare; dropping them is safer than guessing.\n",
    "#### Alternative: Could fill missing dates with a default value, but that might distort account age calculations."
   ]
  },
  {
   "cell_type": "markdown",
   "id": "a58832c6-73a8-44b5-8571-900e17284b12",
   "metadata": {},
   "source": [
    "## 4. Derived Features\n",
    "\n",
    "#### Account age, text length, word count, mentions, URLs, engagement ratios, etc.\n",
    "#### Assumption: These features capture user influence, tweet activity, and engagement potential.\n",
    "#### Reasoning: Logistic Regression, Random Forest, and Gradient Boosting can all benefit from these numeric features to detect patterns"
   ]
  },
  {
   "cell_type": "markdown",
   "id": "df5c697b-8563-4408-950b-67e000b7793a",
   "metadata": {},
   "source": [
    "## Only the selected features are useful for engagement prediction or user behavior modeling; other columns were unnecessary."
   ]
  },
  {
   "cell_type": "markdown",
   "id": "e76f60ea-2c37-42ac-914f-3e21cf2d1654",
   "metadata": {},
   "source": [
    "## 1. Logistic Regression"
   ]
  },
  {
   "cell_type": "code",
   "execution_count": 355,
   "id": "1d2e8f22-44f7-4651-8207-d14e0b8dc347",
   "metadata": {},
   "outputs": [],
   "source": [
    "from sklearn.model_selection import train_test_split\n",
    "from sklearn.preprocessing import StandardScaler\n",
    "from sklearn.linear_model import LogisticRegression\n",
    "from sklearn.metrics import accuracy_score, f1_score, precision_score, recall_score, classification_report"
   ]
  },
  {
   "cell_type": "code",
   "execution_count": 342,
   "id": "73202ee1-1ac5-4abe-a804-45903ee38090",
   "metadata": {},
   "outputs": [],
   "source": [
    "features = [\n",
    "    'tweet_text_length',\n",
    "    'account_age_days',\n",
    "    'user_followers_count',\n",
    "    'has_hashtags',\n",
    "    'tweet_hour',\n",
    "    'tweet_dayofweek',\n",
    "    'is_weekend'\n",
    "]"
   ]
  },
  {
   "cell_type": "code",
   "execution_count": 378,
   "id": "ff94be6b-d13f-48b2-8428-34a16dd27b98",
   "metadata": {},
   "outputs": [
    {
     "name": "stdout",
     "output_type": "stream",
     "text": [
      "high_engagement\n",
      "0    39092\n",
      "Name: count, dtype: int64\n"
     ]
    }
   ],
   "source": [
    "flat_df['high_engagement'] = ((flat_df['retweet_count'] + flat_df['favorite_count']) > 5).astype(int)\n",
    "print(flat_df['high_engagement'].value_counts())"
   ]
  },
  {
   "cell_type": "code",
   "execution_count": 380,
   "id": "24e3cb6c-ba55-466f-9cf1-3dc00d6d8adf",
   "metadata": {},
   "outputs": [],
   "source": [
    "flat_df_clean = flat_df.dropna(subset=features + ['high_engagement'])"
   ]
  },
  {
   "cell_type": "code",
   "execution_count": 382,
   "id": "ad2f6d74-c449-4abc-89b6-856f860b7832",
   "metadata": {},
   "outputs": [],
   "source": [
    "X = flat_df_clean[features]\n",
    "y = flat_df_clean['high_engagement']"
   ]
  },
  {
   "cell_type": "markdown",
   "id": "28cebb73-5afc-4e8c-b42d-023c4d6d64b6",
   "metadata": {},
   "source": [
    "#### Train/test split"
   ]
  },
  {
   "cell_type": "code",
   "execution_count": 385,
   "id": "7e6d0ab8-0d54-44b9-a8dd-86fa3fb8737c",
   "metadata": {},
   "outputs": [],
   "source": [
    "X_train, X_test, y_train, y_test = train_test_split(X, y, test_size=0.2, random_state=42, stratify=y)"
   ]
  },
  {
   "cell_type": "code",
   "execution_count": 387,
   "id": "f1837b7c-b329-4224-90cb-a425f0f58c89",
   "metadata": {},
   "outputs": [],
   "source": [
    "# Scale numeric features\n",
    "scaler = StandardScaler()\n",
    "X_train_scaled = scaler.fit_transform(X_train)\n",
    "X_test_scaled = scaler.transform(X_test)"
   ]
  },
  {
   "cell_type": "code",
   "execution_count": 389,
   "id": "cfc76a14-ae8b-443c-8391-a540a2464291",
   "metadata": {},
   "outputs": [
    {
     "name": "stdout",
     "output_type": "stream",
     "text": [
      "high_engagement\n",
      "0    39092\n",
      "Name: count, dtype: int64\n"
     ]
    }
   ],
   "source": [
    "flat_df['high_engagement'] = (flat_df['engagement_sum'] >= 10).astype(int)\n",
    "print(flat_df['high_engagement'].value_counts())"
   ]
  },
  {
   "cell_type": "code",
   "execution_count": 391,
   "id": "04e7e99f-3e24-48d8-b406-d6bab57d70ec",
   "metadata": {},
   "outputs": [
    {
     "ename": "ValueError",
     "evalue": "This solver needs samples of at least 2 classes in the data, but the data contains only one class: 0",
     "output_type": "error",
     "traceback": [
      "\u001b[1;31m---------------------------------------------------------------------------\u001b[0m",
      "\u001b[1;31mValueError\u001b[0m                                Traceback (most recent call last)",
      "Cell \u001b[1;32mIn[391], line 2\u001b[0m\n\u001b[0;32m      1\u001b[0m model \u001b[38;5;241m=\u001b[39m LogisticRegression(random_state\u001b[38;5;241m=\u001b[39m\u001b[38;5;241m42\u001b[39m, max_iter\u001b[38;5;241m=\u001b[39m\u001b[38;5;241m1000\u001b[39m)\n\u001b[1;32m----> 2\u001b[0m model\u001b[38;5;241m.\u001b[39mfit(X_train_scaled, y_train)\n",
      "File \u001b[1;32m~\\anaconda3\\Lib\\site-packages\\sklearn\\base.py:1389\u001b[0m, in \u001b[0;36m_fit_context.<locals>.decorator.<locals>.wrapper\u001b[1;34m(estimator, *args, **kwargs)\u001b[0m\n\u001b[0;32m   1382\u001b[0m     estimator\u001b[38;5;241m.\u001b[39m_validate_params()\n\u001b[0;32m   1384\u001b[0m \u001b[38;5;28;01mwith\u001b[39;00m config_context(\n\u001b[0;32m   1385\u001b[0m     skip_parameter_validation\u001b[38;5;241m=\u001b[39m(\n\u001b[0;32m   1386\u001b[0m         prefer_skip_nested_validation \u001b[38;5;129;01mor\u001b[39;00m global_skip_validation\n\u001b[0;32m   1387\u001b[0m     )\n\u001b[0;32m   1388\u001b[0m ):\n\u001b[1;32m-> 1389\u001b[0m     \u001b[38;5;28;01mreturn\u001b[39;00m fit_method(estimator, \u001b[38;5;241m*\u001b[39margs, \u001b[38;5;241m*\u001b[39m\u001b[38;5;241m*\u001b[39mkwargs)\n",
      "File \u001b[1;32m~\\anaconda3\\Lib\\site-packages\\sklearn\\linear_model\\_logistic.py:1301\u001b[0m, in \u001b[0;36mLogisticRegression.fit\u001b[1;34m(self, X, y, sample_weight)\u001b[0m\n\u001b[0;32m   1299\u001b[0m classes_ \u001b[38;5;241m=\u001b[39m \u001b[38;5;28mself\u001b[39m\u001b[38;5;241m.\u001b[39mclasses_\n\u001b[0;32m   1300\u001b[0m \u001b[38;5;28;01mif\u001b[39;00m n_classes \u001b[38;5;241m<\u001b[39m \u001b[38;5;241m2\u001b[39m:\n\u001b[1;32m-> 1301\u001b[0m     \u001b[38;5;28;01mraise\u001b[39;00m \u001b[38;5;167;01mValueError\u001b[39;00m(\n\u001b[0;32m   1302\u001b[0m         \u001b[38;5;124m\"\u001b[39m\u001b[38;5;124mThis solver needs samples of at least 2 classes\u001b[39m\u001b[38;5;124m\"\u001b[39m\n\u001b[0;32m   1303\u001b[0m         \u001b[38;5;124m\"\u001b[39m\u001b[38;5;124m in the data, but the data contains only one\u001b[39m\u001b[38;5;124m\"\u001b[39m\n\u001b[0;32m   1304\u001b[0m         \u001b[38;5;124m\"\u001b[39m\u001b[38;5;124m class: \u001b[39m\u001b[38;5;132;01m%r\u001b[39;00m\u001b[38;5;124m\"\u001b[39m \u001b[38;5;241m%\u001b[39m classes_[\u001b[38;5;241m0\u001b[39m]\n\u001b[0;32m   1305\u001b[0m     )\n\u001b[0;32m   1307\u001b[0m \u001b[38;5;28;01mif\u001b[39;00m \u001b[38;5;28mlen\u001b[39m(\u001b[38;5;28mself\u001b[39m\u001b[38;5;241m.\u001b[39mclasses_) \u001b[38;5;241m==\u001b[39m \u001b[38;5;241m2\u001b[39m:\n\u001b[0;32m   1308\u001b[0m     n_classes \u001b[38;5;241m=\u001b[39m \u001b[38;5;241m1\u001b[39m\n",
      "\u001b[1;31mValueError\u001b[0m: This solver needs samples of at least 2 classes in the data, but the data contains only one class: 0"
     ]
    }
   ],
   "source": [
    "model = LogisticRegression(random_state=42, max_iter=1000)\n",
    "model.fit(X_train_scaled, y_train)"
   ]
  },
  {
   "cell_type": "markdown",
   "id": "96c13bb4-8d4b-446e-b743-1c4e6e601481",
   "metadata": {},
   "source": [
    "#### I wasn't able to continue because on hight engagement i have only one class where the Summation of 'retweet_count' and 'favorite_count' both it's total remained to be zero"
   ]
  },
  {
   "cell_type": "code",
   "execution_count": null,
   "id": "34eee1ba-b438-4cff-84a4-3741965dd83f",
   "metadata": {},
   "outputs": [],
   "source": []
  }
 ],
 "metadata": {
  "kernelspec": {
   "display_name": "Python 3 (ipykernel)",
   "language": "python",
   "name": "python3"
  },
  "language_info": {
   "codemirror_mode": {
    "name": "ipython",
    "version": 3
   },
   "file_extension": ".py",
   "mimetype": "text/x-python",
   "name": "python",
   "nbconvert_exporter": "python",
   "pygments_lexer": "ipython3",
   "version": "3.12.7"
  }
 },
 "nbformat": 4,
 "nbformat_minor": 5
}
